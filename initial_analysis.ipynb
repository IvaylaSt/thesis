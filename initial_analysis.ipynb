{
 "cells": [
  {
   "cell_type": "code",
   "execution_count": null,
   "id": "3a863b08-4949-4fb7-9734-3636b6d54295",
   "metadata": {},
   "outputs": [],
   "source": [
    "# import packages\n",
    "import numpy as np\n",
    "import pandas as pd\n",
    "import pyreadstat\n",
    "import matplotlib.pyplot as plt\n",
    "import seaborn as sns"
   ]
  },
  {
   "cell_type": "code",
   "execution_count": null,
   "id": "24fd4acd-b6ab-4724-9fdc-196a9701c33a",
   "metadata": {},
   "outputs": [],
   "source": [
    "# ignore warnings\n",
    "import warnings\n",
    "warnings.filterwarnings('ignore')"
   ]
  },
  {
   "cell_type": "code",
   "execution_count": null,
   "id": "57d97d77-923d-437e-adbb-17552ce57251",
   "metadata": {},
   "outputs": [],
   "source": [
    "# load data\n",
    "ziekte_data = pd.read_excel(\"ziekte_lang.xlsx\")\n",
    "sympro_data, meta = pyreadstat.read_sav(\"20230321_SYMPRO.sav\")\n",
    "behandeling_data = pd.read_excel(\"behandeling_lang.xlsx\")"
   ]
  },
  {
   "cell_type": "code",
   "execution_count": null,
   "id": "1c8ae64c-0a34-41d6-9827-ac732f7eb0b7",
   "metadata": {},
   "outputs": [],
   "source": [
    "# choose columns for the model\n",
    "treatment_data = behandeling_data.drop([\"event_key\", \"behandeling\", \"startdatum_behandeling\", \"stopdatum_behandeling\", \n",
    "                                        \"behandeling_categorie\", \"epis_nr\"], axis = 1)\n",
    "treatment_data = treatment_data.groupby([\"sympro_respondent\", \"startdatum_behandelcombinatie\", \n",
    "                                         \"stopdatum_behandelcombinatie\"]).first().reset_index()\n",
    "\n",
    "symptoms_data = sympro_data.loc[:, [\"respondent\", \"bas_dem_age\", \"bas_dem_gender\", \"t0crf_klinv1\", \"mutatie_cat\", \"T0_comb\"]]\n",
    "symptoms_data = symptoms_data.rename(columns={\"respondent\": \"sympro_respondent\"})\n",
    "# encode age into bins\n",
    "bins = [18, 44, 54, 65, 100]\n",
    "labels = ['under 45', '45-54', '55-65', 'over 65']\n",
    "symptoms_data[\"bas_dem_age\"] = pd.cut(symptoms_data[\"bas_dem_age\"], bins=bins, labels=labels, right=True, ordered=True)\n",
    "\n",
    "recurrence_data = ziekte_data.loc[:, [\"sympro_respondent\", \"event_date\", \"stadium_tnm7_8\", \"recurrence\"]]"
   ]
  },
  {
   "cell_type": "code",
   "execution_count": null,
   "id": "8fb503da-03df-4853-a6b8-2c68ce2c1890",
   "metadata": {},
   "outputs": [],
   "source": [
    "# merge datasets\n",
    "merged_data = pd.merge(treatment_data, recurrence_data, on='sympro_respondent', how='inner')\n",
    "merged_data = pd.merge(merged_data, symptoms_data, on='sympro_respondent', how='inner')\n",
    "\n",
    "# t0 - three months\n",
    "def after_three_months(participant):\n",
    "    start_date = participant['event_date'].min()\n",
    "    cutoff = start_date + pd.DateOffset(months=3)\n",
    "    filtered = participant[participant['event_date'] < cutoff]\n",
    "    filtered = filtered[filtered['startdatum_behandelcombinatie'] < cutoff]\n",
    "    return filtered\n",
    "\n",
    "merged_data_t0 = merged_data.groupby(\"sympro_respondent\", group_keys=False).apply(after_three_months)\n",
    "merged_data_t0 = merged_data_t0.groupby('sympro_respondent').agg(lambda x: ', '.join(sorted(set(x.astype(str))))).reset_index()\n",
    "\n",
    "# t1 - six months\n",
    "def after_six_months(participant):\n",
    "    start_date = participant['event_date'].min()\n",
    "    cutoff = start_date + pd.DateOffset(months=6)\n",
    "    filtered = participant[participant['event_date'] < cutoff]\n",
    "    filtered = filtered[filtered['startdatum_behandelcombinatie'] < cutoff]\n",
    "    return filtered\n",
    "\n",
    "merged_data_t1 = merged_data.groupby(\"sympro_respondent\", group_keys=False).apply(after_six_months)\n",
    "merged_data_t1 = merged_data_t1.groupby('sympro_respondent').agg(lambda x: ', '.join(sorted(set(x.astype(str))))).reset_index()\n",
    "\n",
    "# t2 - a year\n",
    "def after_year(participant):\n",
    "    start_date = participant['event_date'].min()\n",
    "    cutoff = start_date + pd.DateOffset(months=13) #to include edge dates\n",
    "    filtered = participant[participant['event_date'] < cutoff]\n",
    "    filtered = filtered[filtered['startdatum_behandelcombinatie'] < cutoff]\n",
    "    return filtered\n",
    "\n",
    "merged_data_t2 = merged_data.groupby(\"sympro_respondent\", group_keys=False).apply(after_year)\n",
    "merged_data_t2 = merged_data_t2.groupby('sympro_respondent').agg(lambda x: ', '.join(sorted(set(x.astype(str))))).reset_index()"
   ]
  },
  {
   "cell_type": "code",
   "execution_count": null,
   "id": "afab84cd-2e50-45de-8141-37cbc8e03e74",
   "metadata": {},
   "outputs": [],
   "source": [
    "# helper function\n",
    "def get_last_valid_value(column):\n",
    "    parts = [x.strip() for x in column.split(', ') if x.strip().lower() != 'nan']\n",
    "    return parts[-1] if parts else 4"
   ]
  },
  {
   "cell_type": "code",
   "execution_count": null,
   "id": "6ef43044-81ec-4135-ade8-30576703d1cf",
   "metadata": {},
   "outputs": [],
   "source": [
    "#t0\n",
    "t0 = merged_data_t0.loc[:, [\"sympro_respondent\"]]\n",
    "t0['Age'] = merged_data_t0['bas_dem_age']#.apply(lambda x: float(x)).astype(int)\n",
    "t0['Sex'] = merged_data_t0['bas_dem_gender'].apply(lambda x: float(x)).astype(int)\n",
    "t0['Stage'] = merged_data_t0['stadium_tnm7_8'].apply(get_last_valid_value).astype(float).astype(int)\n",
    "t0['Treatment_change'] = merged_data_t0['behandelcombi_binnen_episode'].apply(lambda x: 1 if len(str(x).split(', ')) > 1 else 0).astype(int)\n",
    "t0['Tumor_mutation'] = merged_data_t0['mutatie_cat'].apply(lambda x: 0.0 if x.strip().lower() == 'nan' else float(x)).astype(int)\n",
    "t0['Histology'] = merged_data_t0['t0crf_klinv1'].apply(lambda x: float(x)).astype(int)\n",
    "t0['Other_conditions'] = merged_data_t0['T0_comb'].apply(lambda x: 0.0 if x.strip().lower() == 'nan' else float(x)).astype(int)\n",
    "t0['Recurrence'] = merged_data_t0['recurrence'].apply(get_last_valid_value).astype(float).astype(int)\n",
    "\n",
    "#t1\n",
    "t1 = merged_data_t1.loc[:, [\"sympro_respondent\"]]\n",
    "t1['Age'] = merged_data_t1['bas_dem_age']#.apply(lambda x: float(x)).astype(int)\n",
    "t1['Sex'] = merged_data_t1['bas_dem_gender'].apply(lambda x: float(x)).astype(int)\n",
    "t1['Stage'] = merged_data_t1['stadium_tnm7_8'].apply(get_last_valid_value).astype(float).astype(int)\n",
    "t1['Treatment_change'] = merged_data_t1['behandelcombi_binnen_episode'].apply(lambda x: 1 if len(str(x).split(', ')) > 1 else 0).astype(int)\n",
    "t1['Tumor_mutation'] = merged_data_t1['mutatie_cat'].apply(lambda x: 0.0 if x.strip().lower() == 'nan' else float(x)).astype(int)\n",
    "t1['Histology'] = merged_data_t1['t0crf_klinv1'].apply(lambda x: float(x)).astype(int)\n",
    "t1['Other_conditions'] = merged_data_t1['T0_comb'].apply(lambda x: 0.0 if x.strip().lower() == 'nan' else float(x)).astype(int)\n",
    "t1['Recurrence'] = merged_data_t1['recurrence'].apply(get_last_valid_value).astype(float).astype(int)\n",
    "\n",
    "#t2\n",
    "t2 = merged_data_t2.loc[:, [\"sympro_respondent\"]]\n",
    "t2['Age'] = merged_data_t2['bas_dem_age']#.apply(lambda x: float(x)).astype(int)\n",
    "t2['Sex'] = merged_data_t2['bas_dem_gender'].apply(lambda x: float(x)).astype(int)\n",
    "t2['Stage'] = merged_data_t2['stadium_tnm7_8'].apply(get_last_valid_value).astype(float).astype(int)\n",
    "t2['Treatment_change'] = merged_data_t2['behandelcombi_binnen_episode'].apply(lambda x: 1 if len(str(x).split(', ')) > 1 else 0).astype(int)\n",
    "t2['Tumor_mutation'] = merged_data_t2['mutatie_cat'].apply(lambda x: 0.0 if x.strip().lower() == 'nan' else float(x)).astype(int)\n",
    "t2['Histology'] = merged_data_t2['t0crf_klinv1'].apply(lambda x: float(x)).astype(int)\n",
    "t2['Other_conditions'] = merged_data_t2['T0_comb'].apply(lambda x: 0.0 if x.strip().lower() == 'nan' else float(x)).astype(int)\n",
    "t2['Recurrence'] = merged_data_t2['recurrence'].apply(get_last_valid_value).astype(float).astype(int)"
   ]
  },
  {
   "cell_type": "code",
   "execution_count": null,
   "id": "8e0d0c60-c961-4caa-84b0-1934a14477cc",
   "metadata": {},
   "outputs": [],
   "source": [
    "# plot age\n",
    "plt.figure(figsize=(5, 3))\n",
    "t0['Age'].value_counts().sort_index().plot(\n",
    "    kind='bar', color='skyblue', edgecolor='black')\n",
    "plt.title(\"Age Distribution\")\n",
    "plt.xlabel(\"Age\")\n",
    "plt.ylabel(\"Count\")\n",
    "plt.xticks(rotation=0)\n",
    "plt.tight_layout()\n",
    "plt.show()"
   ]
  },
  {
   "cell_type": "code",
   "execution_count": null,
   "id": "e1264be4-f550-4a51-9ef6-733df99a56c3",
   "metadata": {
    "editable": true,
    "slideshow": {
     "slide_type": ""
    },
    "tags": []
   },
   "outputs": [],
   "source": [
    "# plot stage\n",
    "plt.figure(figsize=(5, 3))\n",
    "t0['Stage'].value_counts().sort_index().plot(\n",
    "    kind='bar', color='skyblue', edgecolor='black')\n",
    "plt.title(\"Stage Distribution\")\n",
    "plt.xlabel(\"Stage\")\n",
    "plt.ylabel(\"Count\")\n",
    "plt.xticks(rotation=0)\n",
    "plt.tight_layout()\n",
    "plt.show()"
   ]
  },
  {
   "cell_type": "code",
   "execution_count": null,
   "id": "2154f5a5-076f-4b92-9574-4ab50e01bf23",
   "metadata": {},
   "outputs": [],
   "source": [
    "# plot sex\n",
    "plt.figure(figsize=(5, 3))\n",
    "t0['Sex'].value_counts().sort_index().plot(\n",
    "    kind='bar', color='skyblue', edgecolor='black')\n",
    "plt.title(\"Sex Distribution\")\n",
    "plt.xlabel(\"Sex (0 for Female, 1 for Male)\")\n",
    "plt.ylabel(\"Count\")\n",
    "plt.xticks(rotation=0)\n",
    "plt.tight_layout()\n",
    "plt.show()"
   ]
  },
  {
   "cell_type": "code",
   "execution_count": null,
   "id": "dbb6bce3-b6f7-4958-baa6-5032395b0391",
   "metadata": {},
   "outputs": [],
   "source": [
    "# plot comorbidities\n",
    "plt.figure(figsize=(5, 3))\n",
    "t0['Other_conditions'].value_counts().sort_index().plot(\n",
    "    kind='bar', color='skyblue', edgecolor='black')\n",
    "plt.title(\"Comorbidities Distribution\")\n",
    "plt.xlabel(\"Comorbidities (1 for No, 2 for Yes)\")\n",
    "plt.ylabel(\"Count\")\n",
    "plt.xticks(rotation=0)\n",
    "plt.tight_layout()\n",
    "plt.show()"
   ]
  },
  {
   "cell_type": "code",
   "execution_count": null,
   "id": "ee367094-48d3-402d-9096-9c52d79040b8",
   "metadata": {},
   "outputs": [],
   "source": [
    "# plot tumour mutation\n",
    "plt.figure(figsize=(5, 3))\n",
    "t0['Tumor_mutation'].value_counts().sort_index().plot(\n",
    "    kind='bar', color='skyblue', edgecolor='black')\n",
    "plt.title(\"Tumour Mutation Distribution\")\n",
    "plt.xlabel(\"Tumour Mutation\")\n",
    "plt.ylabel(\"Count\")\n",
    "plt.xticks(rotation=0)\n",
    "plt.tight_layout()\n",
    "plt.show()"
   ]
  },
  {
   "cell_type": "code",
   "execution_count": null,
   "id": "1d943abf-151d-40e8-a75d-cdafd5536595",
   "metadata": {},
   "outputs": [],
   "source": [
    "# plot histology\n",
    "plt.figure(figsize=(5, 3))\n",
    "t0['Histology'].value_counts().sort_index().plot(\n",
    "    kind='bar', color='skyblue', edgecolor='black')\n",
    "plt.title(\"Histology Distribution (0 for NSCLC)\")\n",
    "plt.xlabel(\"Histology\")\n",
    "plt.ylabel(\"Count\")\n",
    "plt.xticks(rotation=0)\n",
    "plt.tight_layout()\n",
    "plt.show()"
   ]
  },
  {
   "cell_type": "code",
   "execution_count": null,
   "id": "cba4e202-b8a9-467d-9b13-0c7d19ea6c71",
   "metadata": {},
   "outputs": [],
   "source": [
    "# plot treatment_change at each point\n",
    "fig, axes = plt.subplots(1, 3, figsize=(12,4))\n",
    "for i, ax in enumerate(axes):\n",
    "    if i == 0:\n",
    "        t0['Treatment_change'].value_counts().plot(kind='bar', color='skyblue', edgecolor='black', ax=ax)\n",
    "    if i == 1:\n",
    "        t1['Treatment_change'].value_counts().plot(kind='bar', color='skyblue', edgecolor='black', ax=ax)\n",
    "    if i == 2:\n",
    "        t2['Treatment_change'].value_counts().plot(kind='bar', color='skyblue', edgecolor='black', ax=ax)\n",
    "    ax.set_title(f\"Treatment Change Distribution at T{i}\")\n",
    "    ax.set_xlabel(\"Treatment Change (0 for No, 1 for Yes)\")\n",
    "    ax.set_ylabel(\"Count\")\n",
    "    ax.set_xticklabels([0, 1], rotation=0)\n",
    "\n",
    "plt.tight_layout()\n",
    "plt.show()"
   ]
  },
  {
   "cell_type": "code",
   "execution_count": null,
   "id": "38b269c5-5456-4586-a8c1-7eb1d6590e47",
   "metadata": {},
   "outputs": [],
   "source": [
    "# plot treatment_change at each point\n",
    "fig, axes = plt.subplots(1, 3, figsize=(12,4))\n",
    "for i, ax in enumerate(axes):\n",
    "    if i == 0:\n",
    "        t0['Recurrence'].value_counts().plot(kind='bar', color='skyblue', edgecolor='black', ax=ax)\n",
    "    if i == 1:\n",
    "        t1['Recurrence'].value_counts().plot(kind='bar', color='skyblue', edgecolor='black', ax=ax)\n",
    "    if i == 2:\n",
    "        t2['Recurrence'].value_counts().plot(kind='bar', color='skyblue', edgecolor='black', ax=ax)\n",
    "    ax.set_title(f\"Recurrence Distribution at T{i}\")\n",
    "    ax.set_xlabel(\"Recurrence (0 for No, 1 for Yes)\")\n",
    "    ax.set_ylabel(\"Count\")\n",
    "    ax.set_xticklabels([0, 1], rotation=0)\n",
    "\n",
    "plt.tight_layout()\n",
    "plt.show()"
   ]
  },
  {
   "cell_type": "code",
   "execution_count": null,
   "id": "85f73969-d6cf-4c91-9594-4826476a3851",
   "metadata": {},
   "outputs": [],
   "source": [
    "# plot correlations for t0\n",
    "mapping = {\"under 45\": 1, \"45-54\": 2, \"55-65\": 3, \"over 65\": 4}\n",
    "t0[\"Age\"] = t0[\"Age\"].map(mapping)\n",
    "corr = t0.corr()\n",
    "sns.heatmap(corr, annot=True, cmap='coolwarm')\n",
    "plt.title('Correlation Matrix for T0')\n",
    "plt.show()"
   ]
  },
  {
   "cell_type": "code",
   "execution_count": null,
   "id": "61d3d1b4-a1ed-458b-b0e9-c67b25b42094",
   "metadata": {},
   "outputs": [],
   "source": [
    "# plot correlations for t1\n",
    "mapping = {\"under 45\": 1, \"45-54\": 2, \"55-65\": 3, \"over 65\": 4}\n",
    "t1[\"Age\"] = t1[\"Age\"].map(mapping)\n",
    "corr = t1.corr()\n",
    "sns.heatmap(corr, annot=True, cmap='coolwarm')\n",
    "plt.title('Correlation Matrix for T1')\n",
    "plt.show()"
   ]
  },
  {
   "cell_type": "code",
   "execution_count": null,
   "id": "e3158a0f-f67a-4466-83a4-4f06302fe55e",
   "metadata": {},
   "outputs": [],
   "source": [
    "# plot correlations for t2\n",
    "mapping = {\"under 45\": 1, \"45-54\": 2, \"55-65\": 3, \"over 65\": 4}\n",
    "t2[\"Age\"] = t2[\"Age\"].map(mapping)\n",
    "corr = t2.corr()\n",
    "sns.heatmap(corr, annot=True, cmap='coolwarm')\n",
    "plt.title('Correlation Matrix for T2')\n",
    "plt.show()"
   ]
  },
  {
   "cell_type": "code",
   "execution_count": null,
   "id": "c21a6278-fa8d-4d52-b5ad-39fd24f1e4d8",
   "metadata": {},
   "outputs": [],
   "source": [
    "# plot correlations for t2 without mutation\n",
    "test = t2.drop('Tumor_mutation', axis=1)\n",
    "corr = test.corr()\n",
    "sns.heatmap(corr, annot=True, cmap='coolwarm')\n",
    "plt.title('Correlation Matrix for T2 without Tumor_mutation')\n",
    "plt.show()"
   ]
  },
  {
   "cell_type": "code",
   "execution_count": null,
   "id": "df2e6438-711d-47d1-8ae4-dab053482486",
   "metadata": {},
   "outputs": [],
   "source": [
    "# plot strongest correlations\n",
    "fig, axes = plt.subplots(2, 3, figsize=(12,8))\n",
    "sns.countplot(data=t0, ax=axes[0,0], x='Stage', hue='Recurrence')\n",
    "sns.countplot(data=t1, ax=axes[0,1], x='Stage', hue='Recurrence')\n",
    "sns.countplot(data=t2, ax=axes[0,2], x='Stage', hue='Recurrence')\n",
    "sns.countplot(data=t0, ax=axes[1,0], x='Treatment_change', hue='Recurrence')\n",
    "sns.countplot(data=t1, ax=axes[1,1], x='Treatment_change', hue='Recurrence')\n",
    "sns.countplot(data=t2, ax=axes[1,2], x='Treatment_change', hue='Recurrence')\n",
    "plt.tight_layout\n",
    "plt.show()"
   ]
  },
  {
   "cell_type": "code",
   "execution_count": null,
   "id": "aae5e07b-7734-459e-a504-581a985279b7",
   "metadata": {},
   "outputs": [],
   "source": [
    "# plot weakest correlation\n",
    "fig, axes = plt.subplots(1, 3, figsize=(12,4))\n",
    "sns.countplot(data=t0, ax=axes[0], x='Sex', hue='Recurrence')\n",
    "sns.countplot(data=t1, ax=axes[1], x='Sex', hue='Recurrence')\n",
    "sns.countplot(data=t2, ax=axes[2], x='Sex', hue='Recurrence')\n",
    "plt.tight_layout\n",
    "plt.show()"
   ]
  }
 ],
 "metadata": {
  "kernelspec": {
   "display_name": "Python 3 (ipykernel)",
   "language": "python",
   "name": "python3"
  },
  "language_info": {
   "codemirror_mode": {
    "name": "ipython",
    "version": 3
   },
   "file_extension": ".py",
   "mimetype": "text/x-python",
   "name": "python",
   "nbconvert_exporter": "python",
   "pygments_lexer": "ipython3",
   "version": "3.12.4"
  }
 },
 "nbformat": 4,
 "nbformat_minor": 5
}
